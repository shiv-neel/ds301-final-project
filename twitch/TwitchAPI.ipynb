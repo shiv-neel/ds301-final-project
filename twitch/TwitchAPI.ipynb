{
 "cells": [
  {
   "cell_type": "code",
   "execution_count": 32,
   "metadata": {
    "dotnet_interactive": {
     "language": "csharp"
    }
   },
   "outputs": [],
   "source": [
    "import requests\n",
    "class TwitchAPI:\n",
    "    # Id of the client\n",
    "    _clientId=\"\"\n",
    "    # Get the secret from the Twitch Dev Website\n",
    "    _clientSecret=\"\"\n",
    "    # Access token for Certain User\n",
    "    _accessToken=\"\"\n",
    "    # Referesh token for Certain User\n",
    "    _refreshToken=\"\"\n",
    "\n",
    "    def __init__(self,clientId,clientSecret,accessToken=\"\"):\n",
    "        self._clientId= clientId\n",
    "        self._clientSecret = clientSecret\n",
    "        self._accessToken = accessToken\n",
    " # Twitch api domain for getting the Token and the Authorization URL\n",
    "    def TWITCH_ID_DOMAIN(self):\n",
    "        return \"https://id.twitch.tv/\"\n",
    " # Twitch Api domain for executing Various things: like getting views counts etc\n",
    "    def TWITCH_API_DOMAIN(self):\n",
    "        return \"https://api.twith.tv/helix/\"\n",
    "\n",
    "   \n",
    " # Returns the URL for the Twitch Authorization Page   \n",
    "    def getURL(self,Uri):\n",
    "        state = {\"twitch_state\":\"\"}\n",
    "        endpoint = self.TWITCH_ID_DOMAIN()+\"oauth2/authorize\"\n",
    "        params = ((\"client_id\",self._clientId),(\"redirect_uri\",Uri),(\"response_type\",\"code\"),\n",
    "        (\"scope\",\"user:read:email user:read:subscriptions analytics:read:games\"),(\"state\",\"\"))\n",
    "        return requests.get(endpoint,params=params)\n",
    "\n",
    "    \n"
   ]
  },
  {
   "cell_type": "code",
   "execution_count": 40,
   "metadata": {},
   "outputs": [
    {
     "name": "stdout",
     "output_type": "stream",
     "text": [
      "https://www.twitch.tv/login?client_id=1dam2dm4dsylikg06zf5l9ym1anjfh&redirect_params=client_id%3D1dam2dm4dsylikg06zf5l9ym1anjfh%26redirect_uri%3Dhttp%253A%252F%252Flocalhost%26response_type%3Dcode%26scope%3Duser%253Aread%253Aemail%2Buser%253Aread%253Asubscriptions%2Banalytics%253Aread%253Agames%26state%3D\n"
     ]
    }
   ],
   "source": [
    "twitchAPI = TwitchAPI(\"1dam2dm4dsylikg06zf5l9ym1anjfh\",\"2hujioykj7y8g51xmxaeubvemtlgdo\")\n",
    "result = twitchAPI.getURL(\"http://localhost\")\n",
    "print(result.url)"
   ]
  }
 ],
 "metadata": {
  "interpreter": {
   "hash": "4f3b078249380ea762697f4f8f6aea77b3d6e43cbb1b18cbb73d8cde5aa597e7"
  },
  "kernelspec": {
   "display_name": ".NET (C#)",
   "language": "python",
   "name": "python3"
  },
  "language_info": {
   "codemirror_mode": {
    "name": "ipython",
    "version": 3
   },
   "file_extension": ".py",
   "mimetype": "text/x-python",
   "name": "python",
   "nbconvert_exporter": "python",
   "pygments_lexer": "ipython3",
   "version": "3.7.8"
  }
 },
 "nbformat": 4,
 "nbformat_minor": 2
}
